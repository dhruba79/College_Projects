{
 "cells": [
  {
   "cell_type": "code",
   "execution_count": 1,
   "metadata": {
    "id": "zLd-0emU5fAQ"
   },
   "outputs": [],
   "source": [
    "#importing all the necessary libraries\n",
    "\n",
    "import pandas as pd\n",
    "import numpy as np\n",
    "import matplotlib.pyplot as plt\n",
    "import seaborn as sns\n",
    "import math\n",
    "from sklearn import preprocessing\n",
    "from sklearn.compose import make_column_transformer\n",
    "from sklearn.preprocessing import LabelEncoder\n",
    "from sklearn.preprocessing import StandardScaler\n",
    "from sklearn.model_selection import train_test_split\n",
    "import warnings\n",
    "warnings.filterwarnings('ignore')"
   ]
  },
  {
   "cell_type": "code",
   "execution_count": 2,
   "metadata": {
    "colab": {
     "base_uri": "https://localhost:8080/",
     "height": 423
    },
    "id": "6HIIVOhzLXEc",
    "outputId": "cba529a7-1b78-4bc7-a9e0-d810923dbcf8"
   },
   "outputs": [
    {
     "data": {
      "text/html": [
       "<div>\n",
       "<style scoped>\n",
       "    .dataframe tbody tr th:only-of-type {\n",
       "        vertical-align: middle;\n",
       "    }\n",
       "\n",
       "    .dataframe tbody tr th {\n",
       "        vertical-align: top;\n",
       "    }\n",
       "\n",
       "    .dataframe thead th {\n",
       "        text-align: right;\n",
       "    }\n",
       "</style>\n",
       "<table border=\"1\" class=\"dataframe\">\n",
       "  <thead>\n",
       "    <tr style=\"text-align: right;\">\n",
       "      <th></th>\n",
       "      <th>Name</th>\n",
       "      <th>State</th>\n",
       "      <th>Region</th>\n",
       "    </tr>\n",
       "  </thead>\n",
       "  <tbody>\n",
       "    <tr>\n",
       "      <th>0</th>\n",
       "      <td>Lobsang Doyon</td>\n",
       "      <td>Arunachal Pradesh</td>\n",
       "      <td>Eastern</td>\n",
       "    </tr>\n",
       "    <tr>\n",
       "      <th>1</th>\n",
       "      <td>Phurpa Tsering</td>\n",
       "      <td>Arunachal Pradesh</td>\n",
       "      <td>Eastern</td>\n",
       "    </tr>\n",
       "    <tr>\n",
       "      <th>2</th>\n",
       "      <td>Rubu Nampi</td>\n",
       "      <td>Arunachal Pradesh</td>\n",
       "      <td>Eastern</td>\n",
       "    </tr>\n",
       "    <tr>\n",
       "      <th>3</th>\n",
       "      <td>Takhe Tubing</td>\n",
       "      <td>Arunachal Pradesh</td>\n",
       "      <td>Eastern</td>\n",
       "    </tr>\n",
       "    <tr>\n",
       "      <th>4</th>\n",
       "      <td>Kading Perme</td>\n",
       "      <td>Arunachal Pradesh</td>\n",
       "      <td>Eastern</td>\n",
       "    </tr>\n",
       "    <tr>\n",
       "      <th>...</th>\n",
       "      <td>...</td>\n",
       "      <td>...</td>\n",
       "      <td>...</td>\n",
       "    </tr>\n",
       "    <tr>\n",
       "      <th>25784</th>\n",
       "      <td>SARTHAK GOSWAMI</td>\n",
       "      <td>West Bengal</td>\n",
       "      <td>Eastern</td>\n",
       "    </tr>\n",
       "    <tr>\n",
       "      <th>25785</th>\n",
       "      <td>SWAPNANEEL GORAI</td>\n",
       "      <td>West Bengal</td>\n",
       "      <td>Eastern</td>\n",
       "    </tr>\n",
       "    <tr>\n",
       "      <th>25786</th>\n",
       "      <td>ARGHYAJIT DAS</td>\n",
       "      <td>West Bengal</td>\n",
       "      <td>Eastern</td>\n",
       "    </tr>\n",
       "    <tr>\n",
       "      <th>25787</th>\n",
       "      <td>DEBARGHYA BARAL</td>\n",
       "      <td>West Bengal</td>\n",
       "      <td>Eastern</td>\n",
       "    </tr>\n",
       "    <tr>\n",
       "      <th>25788</th>\n",
       "      <td>BARNALI BHOWMICK</td>\n",
       "      <td>West Bengal</td>\n",
       "      <td>Eastern</td>\n",
       "    </tr>\n",
       "  </tbody>\n",
       "</table>\n",
       "<p>25789 rows × 3 columns</p>\n",
       "</div>"
      ],
      "text/plain": [
       "                   Name              State   Region\n",
       "0         Lobsang Doyon  Arunachal Pradesh  Eastern\n",
       "1        Phurpa Tsering  Arunachal Pradesh  Eastern\n",
       "2            Rubu Nampi  Arunachal Pradesh  Eastern\n",
       "3          Takhe Tubing  Arunachal Pradesh  Eastern\n",
       "4          Kading Perme  Arunachal Pradesh  Eastern\n",
       "...                 ...                ...      ...\n",
       "25784   SARTHAK GOSWAMI        West Bengal  Eastern\n",
       "25785  SWAPNANEEL GORAI        West Bengal  Eastern\n",
       "25786     ARGHYAJIT DAS        West Bengal  Eastern\n",
       "25787   DEBARGHYA BARAL        West Bengal  Eastern\n",
       "25788  BARNALI BHOWMICK        West Bengal  Eastern\n",
       "\n",
       "[25789 rows x 3 columns]"
      ]
     },
     "execution_count": 2,
     "metadata": {},
     "output_type": "execute_result"
    }
   ],
   "source": [
    "#uploading dataset\n",
    "\n",
    "df = pd.read_csv(\"C:/Users/iamso/Desktop/Term Project ML/term project/Names_list.csv\", encoding = 'latin-1')\n",
    "df"
   ]
  },
  {
   "cell_type": "code",
   "execution_count": 3,
   "metadata": {
    "colab": {
     "base_uri": "https://localhost:8080/",
     "height": 317
    },
    "id": "W0cLGM6jLh_u",
    "outputId": "ffd92d82-ff8e-4635-8a5b-3013ecfe6bcb"
   },
   "outputs": [
    {
     "name": "stdout",
     "output_type": "stream",
     "text": [
      "<class 'pandas.core.frame.DataFrame'>\n",
      "RangeIndex: 25789 entries, 0 to 25788\n",
      "Data columns (total 3 columns):\n",
      " #   Column  Non-Null Count  Dtype \n",
      "---  ------  --------------  ----- \n",
      " 0   Name    25775 non-null  object\n",
      " 1   State   25789 non-null  object\n",
      " 2   Region  25789 non-null  object\n",
      "dtypes: object(3)\n",
      "memory usage: 604.6+ KB\n"
     ]
    },
    {
     "data": {
      "text/html": [
       "<div>\n",
       "<style scoped>\n",
       "    .dataframe tbody tr th:only-of-type {\n",
       "        vertical-align: middle;\n",
       "    }\n",
       "\n",
       "    .dataframe tbody tr th {\n",
       "        vertical-align: top;\n",
       "    }\n",
       "\n",
       "    .dataframe thead th {\n",
       "        text-align: right;\n",
       "    }\n",
       "</style>\n",
       "<table border=\"1\" class=\"dataframe\">\n",
       "  <thead>\n",
       "    <tr style=\"text-align: right;\">\n",
       "      <th></th>\n",
       "      <th>count</th>\n",
       "      <th>unique</th>\n",
       "      <th>top</th>\n",
       "      <th>freq</th>\n",
       "    </tr>\n",
       "  </thead>\n",
       "  <tbody>\n",
       "    <tr>\n",
       "      <th>Name</th>\n",
       "      <td>25775</td>\n",
       "      <td>23145</td>\n",
       "      <td>DEBBARMA</td>\n",
       "      <td>74</td>\n",
       "    </tr>\n",
       "    <tr>\n",
       "      <th>State</th>\n",
       "      <td>25789</td>\n",
       "      <td>28</td>\n",
       "      <td>Punjab</td>\n",
       "      <td>1229</td>\n",
       "    </tr>\n",
       "    <tr>\n",
       "      <th>Region</th>\n",
       "      <td>25789</td>\n",
       "      <td>5</td>\n",
       "      <td>Eastern</td>\n",
       "      <td>8234</td>\n",
       "    </tr>\n",
       "  </tbody>\n",
       "</table>\n",
       "</div>"
      ],
      "text/plain": [
       "        count unique       top  freq\n",
       "Name    25775  23145  DEBBARMA    74\n",
       "State   25789     28    Punjab  1229\n",
       "Region  25789      5   Eastern  8234"
      ]
     },
     "execution_count": 3,
     "metadata": {},
     "output_type": "execute_result"
    }
   ],
   "source": [
    "df.info()           #information about the dataset\n",
    "df.describe().T      #description of the dataset"
   ]
  },
  {
   "cell_type": "code",
   "execution_count": 4,
   "metadata": {
    "colab": {
     "base_uri": "https://localhost:8080/"
    },
    "id": "Wv419jE_bVCj",
    "outputId": "0418f3e3-c955-4045-f1ec-e5064d588acc"
   },
   "outputs": [
    {
     "data": {
      "text/plain": [
       "(25789, 3)"
      ]
     },
     "execution_count": 4,
     "metadata": {},
     "output_type": "execute_result"
    }
   ],
   "source": [
    "df.shape  #total rows and columns in the dataset"
   ]
  },
  {
   "cell_type": "code",
   "execution_count": 5,
   "metadata": {
    "colab": {
     "base_uri": "https://localhost:8080/",
     "height": 423
    },
    "id": "So_8_CTNbmFF",
    "outputId": "767cf214-ec03-4e1a-dace-8df37425eacb"
   },
   "outputs": [
    {
     "data": {
      "text/html": [
       "<div>\n",
       "<style scoped>\n",
       "    .dataframe tbody tr th:only-of-type {\n",
       "        vertical-align: middle;\n",
       "    }\n",
       "\n",
       "    .dataframe tbody tr th {\n",
       "        vertical-align: top;\n",
       "    }\n",
       "\n",
       "    .dataframe thead th {\n",
       "        text-align: right;\n",
       "    }\n",
       "</style>\n",
       "<table border=\"1\" class=\"dataframe\">\n",
       "  <thead>\n",
       "    <tr style=\"text-align: right;\">\n",
       "      <th></th>\n",
       "      <th>Name</th>\n",
       "      <th>State</th>\n",
       "      <th>Region</th>\n",
       "    </tr>\n",
       "  </thead>\n",
       "  <tbody>\n",
       "    <tr>\n",
       "      <th>0</th>\n",
       "      <td>Lobsang Doyon</td>\n",
       "      <td>Arunachal Pradesh</td>\n",
       "      <td>Eastern</td>\n",
       "    </tr>\n",
       "    <tr>\n",
       "      <th>1</th>\n",
       "      <td>Phurpa Tsering</td>\n",
       "      <td>Arunachal Pradesh</td>\n",
       "      <td>Eastern</td>\n",
       "    </tr>\n",
       "    <tr>\n",
       "      <th>2</th>\n",
       "      <td>Rubu Nampi</td>\n",
       "      <td>Arunachal Pradesh</td>\n",
       "      <td>Eastern</td>\n",
       "    </tr>\n",
       "    <tr>\n",
       "      <th>3</th>\n",
       "      <td>Takhe Tubing</td>\n",
       "      <td>Arunachal Pradesh</td>\n",
       "      <td>Eastern</td>\n",
       "    </tr>\n",
       "    <tr>\n",
       "      <th>4</th>\n",
       "      <td>Kading Perme</td>\n",
       "      <td>Arunachal Pradesh</td>\n",
       "      <td>Eastern</td>\n",
       "    </tr>\n",
       "    <tr>\n",
       "      <th>...</th>\n",
       "      <td>...</td>\n",
       "      <td>...</td>\n",
       "      <td>...</td>\n",
       "    </tr>\n",
       "    <tr>\n",
       "      <th>25784</th>\n",
       "      <td>SARTHAK GOSWAMI</td>\n",
       "      <td>West Bengal</td>\n",
       "      <td>Eastern</td>\n",
       "    </tr>\n",
       "    <tr>\n",
       "      <th>25785</th>\n",
       "      <td>SWAPNANEEL GORAI</td>\n",
       "      <td>West Bengal</td>\n",
       "      <td>Eastern</td>\n",
       "    </tr>\n",
       "    <tr>\n",
       "      <th>25786</th>\n",
       "      <td>ARGHYAJIT DAS</td>\n",
       "      <td>West Bengal</td>\n",
       "      <td>Eastern</td>\n",
       "    </tr>\n",
       "    <tr>\n",
       "      <th>25787</th>\n",
       "      <td>DEBARGHYA BARAL</td>\n",
       "      <td>West Bengal</td>\n",
       "      <td>Eastern</td>\n",
       "    </tr>\n",
       "    <tr>\n",
       "      <th>25788</th>\n",
       "      <td>BARNALI BHOWMICK</td>\n",
       "      <td>West Bengal</td>\n",
       "      <td>Eastern</td>\n",
       "    </tr>\n",
       "  </tbody>\n",
       "</table>\n",
       "<p>24170 rows × 3 columns</p>\n",
       "</div>"
      ],
      "text/plain": [
       "                   Name              State   Region\n",
       "0         Lobsang Doyon  Arunachal Pradesh  Eastern\n",
       "1        Phurpa Tsering  Arunachal Pradesh  Eastern\n",
       "2            Rubu Nampi  Arunachal Pradesh  Eastern\n",
       "3          Takhe Tubing  Arunachal Pradesh  Eastern\n",
       "4          Kading Perme  Arunachal Pradesh  Eastern\n",
       "...                 ...                ...      ...\n",
       "25784   SARTHAK GOSWAMI        West Bengal  Eastern\n",
       "25785  SWAPNANEEL GORAI        West Bengal  Eastern\n",
       "25786     ARGHYAJIT DAS        West Bengal  Eastern\n",
       "25787   DEBARGHYA BARAL        West Bengal  Eastern\n",
       "25788  BARNALI BHOWMICK        West Bengal  Eastern\n",
       "\n",
       "[24170 rows x 3 columns]"
      ]
     },
     "execution_count": 5,
     "metadata": {},
     "output_type": "execute_result"
    }
   ],
   "source": [
    "# dropping duplicate columns\n",
    "df = df.dropna().drop_duplicates()\n",
    "df"
   ]
  },
  {
   "cell_type": "code",
   "execution_count": 6,
   "metadata": {
    "colab": {
     "base_uri": "https://localhost:8080/"
    },
    "id": "ae3XvkxRjhxw",
    "outputId": "ed05e94d-c719-4eb0-862f-c1ba044f3b8a"
   },
   "outputs": [
    {
     "data": {
      "text/plain": [
       "array(['Arunachal Pradesh', 'Assam', 'Bihar', 'Chhattisgarh', 'Delhi',\n",
       "       'Goa', 'Gujarat', 'Haryana', 'Himachal Pradesh',\n",
       "       'Jammu and Kashmir', 'Jharkhand', 'Karnataka', 'Kerala',\n",
       "       'Madhya Pradesh', 'Maharashtra', 'Manipur', 'Mizoram', 'Nagaland',\n",
       "       'Odisha', 'Punjab', 'Rajasthan', 'Sikkim', 'Tamil Nadu',\n",
       "       'Telangana', 'Tripura', 'Uttar Pradesh', 'Uttarakhand',\n",
       "       'West Bengal'], dtype=object)"
      ]
     },
     "execution_count": 6,
     "metadata": {},
     "output_type": "execute_result"
    }
   ],
   "source": [
    "df['State'].unique()"
   ]
  },
  {
   "cell_type": "code",
   "execution_count": 7,
   "metadata": {
    "colab": {
     "base_uri": "https://localhost:8080/"
    },
    "id": "JsyNL-Jij3Rv",
    "outputId": "46dafe8c-6d94-4c22-872d-98532de9edc4"
   },
   "outputs": [
    {
     "data": {
      "text/plain": [
       "array(['Eastern', 'Northern', 'Central', 'Western', 'Southern'],\n",
       "      dtype=object)"
      ]
     },
     "execution_count": 7,
     "metadata": {},
     "output_type": "execute_result"
    }
   ],
   "source": [
    "df['Region'].unique()"
   ]
  },
  {
   "cell_type": "code",
   "execution_count": 8,
   "metadata": {
    "colab": {
     "base_uri": "https://localhost:8080/"
    },
    "id": "g8TKrhkUb9SC",
    "outputId": "ae9b198d-4fb2-4c47-fb7b-0a63653c8e72"
   },
   "outputs": [
    {
     "data": {
      "text/plain": [
       "Chhattisgarh         1103\n",
       "Telangana            1087\n",
       "West Bengal          1057\n",
       "Madhya Pradesh       1057\n",
       "Jammu and Kashmir    1055\n",
       "Odisha               1041\n",
       "Tamil Nadu           1037\n",
       "Punjab               1034\n",
       "Uttar Pradesh        1009\n",
       "Goa                   999\n",
       "Maharashtra           994\n",
       "Manipur               989\n",
       "Mizoram               981\n",
       "Gujarat               980\n",
       "Jharkhand             945\n",
       "Kerala                943\n",
       "Delhi                 934\n",
       "Rajasthan             933\n",
       "Himachal Pradesh      927\n",
       "Bihar                 895\n",
       "Assam                 843\n",
       "Haryana               813\n",
       "Arunachal Pradesh     620\n",
       "Tripura               613\n",
       "Karnataka             570\n",
       "Nagaland              436\n",
       "Uttarakhand           212\n",
       "Sikkim                 63\n",
       "Name: State, dtype: int64"
      ]
     },
     "execution_count": 8,
     "metadata": {},
     "output_type": "execute_result"
    }
   ],
   "source": [
    "df['State'].value_counts()  # counting the number of values in target column"
   ]
  },
  {
   "cell_type": "code",
   "execution_count": 9,
   "metadata": {
    "colab": {
     "base_uri": "https://localhost:8080/"
    },
    "id": "jO1RfjR3cVZU",
    "outputId": "2b795c70-0076-4c85-c225-3ae68147d921"
   },
   "outputs": [
    {
     "data": {
      "text/plain": [
       "Eastern     7537\n",
       "Northern    4979\n",
       "Central     4112\n",
       "Western     3905\n",
       "Southern    3637\n",
       "Name: Region, dtype: int64"
      ]
     },
     "execution_count": 9,
     "metadata": {},
     "output_type": "execute_result"
    }
   ],
   "source": [
    "df['Region'].value_counts()  # counting the number of values in target column"
   ]
  },
  {
   "cell_type": "code",
   "execution_count": 10,
   "metadata": {
    "colab": {
     "base_uri": "https://localhost:8080/",
     "height": 423
    },
    "id": "-IiA5IlbfVg7",
    "outputId": "dc82b138-fdbe-44c3-a36e-48f098f992fa"
   },
   "outputs": [
    {
     "data": {
      "text/html": [
       "<div>\n",
       "<style scoped>\n",
       "    .dataframe tbody tr th:only-of-type {\n",
       "        vertical-align: middle;\n",
       "    }\n",
       "\n",
       "    .dataframe tbody tr th {\n",
       "        vertical-align: top;\n",
       "    }\n",
       "\n",
       "    .dataframe thead th {\n",
       "        text-align: right;\n",
       "    }\n",
       "</style>\n",
       "<table border=\"1\" class=\"dataframe\">\n",
       "  <thead>\n",
       "    <tr style=\"text-align: right;\">\n",
       "      <th></th>\n",
       "      <th>Name</th>\n",
       "      <th>State</th>\n",
       "      <th>Region</th>\n",
       "      <th>region_encoded</th>\n",
       "    </tr>\n",
       "  </thead>\n",
       "  <tbody>\n",
       "    <tr>\n",
       "      <th>0</th>\n",
       "      <td>Lobsang Doyon</td>\n",
       "      <td>Arunachal Pradesh</td>\n",
       "      <td>Eastern</td>\n",
       "      <td>1</td>\n",
       "    </tr>\n",
       "    <tr>\n",
       "      <th>1</th>\n",
       "      <td>Phurpa Tsering</td>\n",
       "      <td>Arunachal Pradesh</td>\n",
       "      <td>Eastern</td>\n",
       "      <td>1</td>\n",
       "    </tr>\n",
       "    <tr>\n",
       "      <th>2</th>\n",
       "      <td>Rubu Nampi</td>\n",
       "      <td>Arunachal Pradesh</td>\n",
       "      <td>Eastern</td>\n",
       "      <td>1</td>\n",
       "    </tr>\n",
       "    <tr>\n",
       "      <th>3</th>\n",
       "      <td>Takhe Tubing</td>\n",
       "      <td>Arunachal Pradesh</td>\n",
       "      <td>Eastern</td>\n",
       "      <td>1</td>\n",
       "    </tr>\n",
       "    <tr>\n",
       "      <th>4</th>\n",
       "      <td>Kading Perme</td>\n",
       "      <td>Arunachal Pradesh</td>\n",
       "      <td>Eastern</td>\n",
       "      <td>1</td>\n",
       "    </tr>\n",
       "    <tr>\n",
       "      <th>...</th>\n",
       "      <td>...</td>\n",
       "      <td>...</td>\n",
       "      <td>...</td>\n",
       "      <td>...</td>\n",
       "    </tr>\n",
       "    <tr>\n",
       "      <th>25784</th>\n",
       "      <td>SARTHAK GOSWAMI</td>\n",
       "      <td>West Bengal</td>\n",
       "      <td>Eastern</td>\n",
       "      <td>1</td>\n",
       "    </tr>\n",
       "    <tr>\n",
       "      <th>25785</th>\n",
       "      <td>SWAPNANEEL GORAI</td>\n",
       "      <td>West Bengal</td>\n",
       "      <td>Eastern</td>\n",
       "      <td>1</td>\n",
       "    </tr>\n",
       "    <tr>\n",
       "      <th>25786</th>\n",
       "      <td>ARGHYAJIT DAS</td>\n",
       "      <td>West Bengal</td>\n",
       "      <td>Eastern</td>\n",
       "      <td>1</td>\n",
       "    </tr>\n",
       "    <tr>\n",
       "      <th>25787</th>\n",
       "      <td>DEBARGHYA BARAL</td>\n",
       "      <td>West Bengal</td>\n",
       "      <td>Eastern</td>\n",
       "      <td>1</td>\n",
       "    </tr>\n",
       "    <tr>\n",
       "      <th>25788</th>\n",
       "      <td>BARNALI BHOWMICK</td>\n",
       "      <td>West Bengal</td>\n",
       "      <td>Eastern</td>\n",
       "      <td>1</td>\n",
       "    </tr>\n",
       "  </tbody>\n",
       "</table>\n",
       "<p>24170 rows × 4 columns</p>\n",
       "</div>"
      ],
      "text/plain": [
       "                   Name              State   Region  region_encoded\n",
       "0         Lobsang Doyon  Arunachal Pradesh  Eastern               1\n",
       "1        Phurpa Tsering  Arunachal Pradesh  Eastern               1\n",
       "2            Rubu Nampi  Arunachal Pradesh  Eastern               1\n",
       "3          Takhe Tubing  Arunachal Pradesh  Eastern               1\n",
       "4          Kading Perme  Arunachal Pradesh  Eastern               1\n",
       "...                 ...                ...      ...             ...\n",
       "25784   SARTHAK GOSWAMI        West Bengal  Eastern               1\n",
       "25785  SWAPNANEEL GORAI        West Bengal  Eastern               1\n",
       "25786     ARGHYAJIT DAS        West Bengal  Eastern               1\n",
       "25787   DEBARGHYA BARAL        West Bengal  Eastern               1\n",
       "25788  BARNALI BHOWMICK        West Bengal  Eastern               1\n",
       "\n",
       "[24170 rows x 4 columns]"
      ]
     },
     "execution_count": 10,
     "metadata": {},
     "output_type": "execute_result"
    }
   ],
   "source": [
    "#Label Encoding\n",
    "\n",
    "from sklearn.preprocessing import LabelEncoder\n",
    "le = LabelEncoder()\n",
    "\n",
    "df[['region_encoded']] = df[['Region']].apply(le.fit_transform)\n",
    "df"
   ]
  },
  {
   "cell_type": "code",
   "execution_count": 13,
   "metadata": {
    "id": "163JAEghgHSc"
   },
   "outputs": [],
   "source": [
    "states = ['State']\n",
    "regions = ['Region']"
   ]
  },
  {
   "cell_type": "code",
   "execution_count": 14,
   "metadata": {
    "colab": {
     "base_uri": "https://localhost:8080/",
     "height": 731
    },
    "id": "WgDBjDLYgcnE",
    "outputId": "fbe568e0-5915-4c71-c5be-f238783055a4"
   },
   "outputs": [
    {
     "data": {
      "image/png": "[encoded data removed]",
      "text/plain": [
       "<Figure size 720x576 with 1 Axes>"
      ]
     },
     "metadata": {
      "needs_background": "light"
     },
     "output_type": "display_data"
    }
   ],
   "source": [
    "#plotting bar chart for categorical columns\n",
    "\n",
    "fig, axs = plt.subplots(nrows=1, ncols=1, figsize=(10,8))\n",
    "axs = np.ravel(axs)\n",
    "\n",
    "for i, col in enumerate(regions):\n",
    "    plt.sca(axs[i])\n",
    "    g = sns.countplot(data=df, x=col, palette=\"Set1\")\n",
    "    for rect in g.patches:\n",
    "        x, y = rect.get_x(), rect.get_y()\n",
    "        h, w = rect.get_height(), rect.get_width()\n",
    "        plt.annotate(f\"{h}\", (x+w/2, h), ha='center', va='bottom', fontsize=12, color='k')\n",
    "\n",
    "    plt.xticks(rotation=15)\n",
    "\n",
    "plt.show()"
   ]
  },
  {
   "cell_type": "code",
   "execution_count": 15,
   "metadata": {
    "colab": {
     "base_uri": "https://localhost:8080/"
    },
    "id": "gjSfbx4ShsuU",
    "outputId": "b95bcfb7-df34-405b-db80-e983a5fb5c76"
   },
   "outputs": [
    {
     "name": "stdout",
     "output_type": "stream",
     "text": [
      "{'Central': 0, 'Eastern': 1, 'Northern': 2, 'Southern': 3, 'Western': 4}\n"
     ]
    }
   ],
   "source": [
    "le_name_mapping = dict(zip(le.classes_, le.transform(le.classes_)))\n",
    "print(le_name_mapping)"
   ]
  },
  {
   "cell_type": "code",
   "execution_count": 16,
   "metadata": {
    "colab": {
     "base_uri": "https://localhost:8080/",
     "height": 675
    },
    "id": "28JZ6PuQirok",
    "outputId": "30ee6dec-8d29-4449-a93a-aef40d3d4911"
   },
   "outputs": [
    {
     "data": {
      "image/png": "[encoded data removed]",
      "text/plain": [
       "<Figure size 1080x576 with 1 Axes>"
      ]
     },
     "metadata": {},
     "output_type": "display_data"
    }
   ],
   "source": [
    "labels = ['Central','Eastern','Northern','Southern','Western']\n",
    "sizes = [\n",
    "    dict(df['region_encoded'].value_counts())[0],\n",
    "    dict(df['region_encoded'].value_counts())[1],\n",
    "    dict(df['region_encoded'].value_counts())[2],\n",
    "    dict(df['region_encoded'].value_counts())[3],\n",
    "    dict(df['region_encoded'].value_counts())[4]\n",
    "]\n",
    "\n",
    "plt.figure(figsize=(15, 8))\n",
    "plt.pie(sizes, labels=labels, autopct='%1.1f%%', shadow=True, startangle=90)\n",
    "plt.legend(['Central','Eastern','Northern','Southern','Western'])\n",
    "plt.title('The percentage of All Classes in dataset')\n",
    "plt.show()"
   ]
  },
  {
   "cell_type": "code",
   "execution_count": 17,
   "metadata": {
    "id": "yqOK6RVwh-j5"
   },
   "outputs": [],
   "source": [
    "X = df['Name']\n",
    "y = df['Region']"
   ]
  },
  {
   "cell_type": "code",
   "execution_count": 18,
   "metadata": {
    "id": "9EH1PnDYkO62"
   },
   "outputs": [],
   "source": [
    "from sklearn.feature_extraction.text import CountVectorizer\n",
    "cv = CountVectorizer()\n",
    "x = cv.fit_transform(X)"
   ]
  },
  {
   "cell_type": "code",
   "execution_count": 19,
   "metadata": {
    "colab": {
     "base_uri": "https://localhost:8080/"
    },
    "id": "aXhz6IwFkwCB",
    "outputId": "a5a55276-61ca-4c4a-b53a-271bbf7a7627"
   },
   "outputs": [
    {
     "data": {
      "text/plain": [
       "array(['3çáònéb', 'aabasaheb', 'aabha', ..., 'æª', 'éay', 'ùøë'],\n",
       "      dtype=object)"
      ]
     },
     "execution_count": 19,
     "metadata": {},
     "output_type": "execute_result"
    }
   ],
   "source": [
    "cv.get_feature_names_out()"
   ]
  },
  {
   "cell_type": "code",
   "execution_count": 20,
   "metadata": {
    "colab": {
     "base_uri": "https://localhost:8080/"
    },
    "id": "UjuLK7AblVY1",
    "outputId": "c24e4016-1a79-42d3-f23b-14bdfd15f1ab"
   },
   "outputs": [
    {
     "name": "stdout",
     "output_type": "stream",
     "text": [
      "(19336, 16999) (19336,) (4834, 16999) (4834,)\n"
     ]
    }
   ],
   "source": [
    "#splitting the dataset into training and testing\n",
    "\n",
    "from sklearn.model_selection import train_test_split\n",
    "\n",
    "X_train, X_test, y_train, y_test = train_test_split(x, y, test_size=0.2, stratify = y, random_state = 42)\n",
    "print(X_train.shape, y_train.shape, X_test.shape, y_test.shape)"
   ]
  },
  {
   "cell_type": "code",
   "execution_count": 29,
   "metadata": {
    "colab": {
     "base_uri": "https://localhost:8080/",
     "height": 74
    },
    "id": "Ipnyi1mamsS4",
    "outputId": "31a69aa0-cb39-441e-a9a1-32ec4e76ab8c"
   },
   "outputs": [
    {
     "data": {
      "text/plain": [
       "BernoulliNB()"
      ]
     },
     "execution_count": 29,
     "metadata": {},
     "output_type": "execute_result"
    }
   ],
   "source": [
    "# Build model\n",
    "from sklearn.naive_bayes import BernoulliNB\n",
    "nv = BernoulliNB()\n",
    "nv.fit(X_train, y_train)"
   ]
  },
  {
   "cell_type": "code",
   "execution_count": 30,
   "metadata": {
    "colab": {
     "base_uri": "https://localhost:8080/"
    },
    "id": "zwlr81kQnP1R",
    "outputId": "d66b2acf-311e-44d0-ee53-4a949653f7cf"
   },
   "outputs": [
    {
     "data": {
      "text/plain": [
       "0.5"
      ]
     },
     "execution_count": 30,
     "metadata": {},
     "output_type": "execute_result"
    }
   ],
   "source": [
    "nv.score(X_test, y_test)"
   ]
  },
  {
   "cell_type": "code",
   "execution_count": 31,
   "metadata": {
    "id": "nkKlk1bQnXX7"
   },
   "outputs": [],
   "source": [
    "sample = ['tarik anowar']\n",
    "vect = cv.transform(sample).toarray()"
   ]
  },
  {
   "cell_type": "code",
   "execution_count": 32,
   "metadata": {
    "colab": {
     "base_uri": "https://localhost:8080/"
    },
    "id": "OuSLZ42eniEg",
    "outputId": "ed23c7e8-de93-448f-e4eb-334aad38d05b"
   },
   "outputs": [
    {
     "data": {
      "text/plain": [
       "array(['Eastern'], dtype='<U8')"
      ]
     },
     "execution_count": 32,
     "metadata": {},
     "output_type": "execute_result"
    }
   ],
   "source": [
    "nv.predict(vect)"
   ]
  },
  {
   "cell_type": "code",
   "execution_count": 33,
   "metadata": {
    "id": "b8dnMdsSrEjk"
   },
   "outputs": [],
   "source": [
    "#import all classifiers\n",
    "\n",
    "from sklearn.linear_model import LogisticRegression\n",
    "from sklearn.neighbors import KNeighborsClassifier\n",
    "from sklearn.naive_bayes import BernoulliNB, MultinomialNB\n",
    "#from sklearn.svm import SVC\n",
    "from sklearn.tree import DecisionTreeClassifier\n",
    "from sklearn.ensemble import RandomForestClassifier"
   ]
  },
  {
   "cell_type": "code",
   "execution_count": 34,
   "metadata": {
    "id": "_nxKV_86rbBk"
   },
   "outputs": [],
   "source": [
    "from sklearn.metrics import accuracy_score, confusion_matrix, ConfusionMatrixDisplay, precision_score, recall_score, f1_score\n",
    "from sklearn.metrics import classification_report, auc, precision_recall_curve, average_precision_score, cohen_kappa_score \n",
    "from sklearn.model_selection import cross_val_score"
   ]
  },
  {
   "cell_type": "code",
   "execution_count": 35,
   "metadata": {
    "id": "jUCQZ1_Urk-R"
   },
   "outputs": [],
   "source": [
    "models = []\n",
    "models.append(['Logistic Regression',LogisticRegression(random_state=0)])\n",
    "models.append(['KNeigbors',KNeighborsClassifier()])\n",
    "models.append(['BernoulliNB',BernoulliNB()])\n",
    "models.append(['MultinomialNB',MultinomialNB()])\n",
    "#models.append(['SVM',SVC(random_state=0, probability=True)])\n",
    "models.append(['DecisionTree',DecisionTreeClassifier(random_state=0)])\n",
    "models.append(['RandomForest',RandomForestClassifier(random_state=0)])"
   ]
  },
  {
   "cell_type": "code",
   "execution_count": 36,
   "metadata": {
    "id": "H6e56Uk9rv-A"
   },
   "outputs": [],
   "source": [
    "def run_models(X_train, y_train, X_test, y_test, models, kcv):\n",
    "\n",
    "    lst_1 = []\n",
    "    \n",
    "    for i in range(len(models)):\n",
    "    \n",
    "        lst_2 = []\n",
    "        name = models[i][0]\n",
    "        clf = models[i][1]\n",
    "        clf.fit(X_train, y_train)\n",
    "        y_pred = clf.predict(X_test)\n",
    "    \n",
    "        cv_score = cross_val_score(clf, X_train, y_train, cv=kcv)\n",
    "        #kfold_accuracy_scores.append(cv_scores.mean())\n",
    "\n",
    "\n",
    "        # Calculate evaluation metrics\n",
    "        conf_matrix = confusion_matrix(y_test, y_pred)\n",
    "        acc_score = accuracy_score(y_test, y_pred)\n",
    "        precision = precision_score(y_test, y_pred, average='weighted')\n",
    "        recall = recall_score(y_test, y_pred, average='weighted')\n",
    "        f1 = f1_score(y_test, y_pred, average='weighted')\n",
    "        cohen_score = cohen_kappa_score(y_test, y_pred)\n",
    "        \n",
    "        # for Confusion Matrix\n",
    "        plt.figure(figsize=(7,5))\n",
    "        sns.heatmap(conf_matrix, annot=True, fmt='d', cmap='Blues')\n",
    "        plt.title(name)\n",
    "        plt.xlabel('Predict')\n",
    "        plt.ylabel('Truth')\n",
    "        plt.show()\n",
    "        \n",
    "        \n",
    "        print(\"Classifier: \", models[i][0])\n",
    "        print('')\n",
    "        print(\"Confusion Matrix:\\n\", conf_matrix)\n",
    "        print('')\n",
    "        print(\"Accuracy Score: \", acc_score)\n",
    "        print(\"Precision Score: \", precision)\n",
    "        print(\"Recall Score: \", recall)\n",
    "        print(\"F1 Score: \", f1)\n",
    "        print(\"Cohen Score: \", cohen_score)\n",
    "        print(\"K-Fold Accuracy Score: %.2f%%\" % (np.mean(cv_score) * 100))\n",
    "        print('')\n",
    "        print(\"Classification Report:\\n\", classification_report(y_test, models[i][1].predict(X_test)))\n",
    "        print(\"\\n\")\n",
    "        \n",
    "        lst_2.append(name)\n",
    "        lst_2.append(acc_score*100)\n",
    "        lst_2.append(cv_score.mean()*100)\n",
    "        lst_2.append(cv_score.std()*100)\n",
    "        lst_2.append(precision)\n",
    "        lst_2.append(recall)\n",
    "        lst_2.append(f1)\n",
    "        lst_2.append(cohen_score)\n",
    "        lst_1.append(lst_2)\n",
    "        \n",
    "    df1 = pd.DataFrame(lst_1, columns=['Model','Accuracy','K-Fold Mean Accuracy','Std.Deviation','Precision','Recall','F1 Score', 'Cohen-Kappa Score'])\n",
    "    df1.sort_values(by=['Accuracy', 'K-Fold Mean Accuracy'],inplace=True,ascending=False)\n",
    "\n",
    "    return df1"
   ]
  },
  {
   "cell_type": "code",
   "execution_count": 37,
   "metadata": {
    "colab": {
     "base_uri": "https://localhost:8080/",
     "height": 1000
    },
    "id": "S1s6Iyq8ZXQ7",
    "outputId": "00f17690-c9ff-462e-a149-88d49d8dd4f4",
    "scrolled": false
   },
   "outputs": [
    {
     "data": {
      "image/png": "[encoded data removed]",
      "text/plain": [
       "<Figure size 504x360 with 2 Axes>"
      ]
     },
     "metadata": {
      "needs_background": "light"
     },
     "output_type": "display_data"
    },
    {
     "name": "stdout",
     "output_type": "stream",
     "text": [
      "Classifier:  Logistic Regression\n",
      "\n",
      "Confusion Matrix:\n",
      " [[ 374  211  153   27   57]\n",
      " [  96 1279   69   41   23]\n",
      " [ 105  258  508   56   69]\n",
      " [  14  288   51  336   38]\n",
      " [  86  169  108   36  382]]\n",
      "\n",
      "Accuracy Score:  0.5955730244104261\n",
      "Precision Score:  0.6032500819821269\n",
      "Recall Score:  0.5955730244104261\n",
      "F1 Score:  0.585006394135994\n",
      "Cohen Score:  0.4689894292572049\n",
      "K-Fold Accuracy Score: 58.70%\n",
      "\n",
      "Classification Report:\n",
      "               precision    recall  f1-score   support\n",
      "\n",
      "     Central       0.55      0.45      0.50       822\n",
      "     Eastern       0.58      0.85      0.69      1508\n",
      "    Northern       0.57      0.51      0.54       996\n",
      "    Southern       0.68      0.46      0.55       727\n",
      "     Western       0.67      0.49      0.57       781\n",
      "\n",
      "    accuracy                           0.60      4834\n",
      "   macro avg       0.61      0.55      0.57      4834\n",
      "weighted avg       0.60      0.60      0.59      4834\n",
      "\n",
      "\n",
      "\n"
     ]
    },
    {
     "data": {
      "image/png": "[encoded data removed]",
      "text/plain": [
       "<Figure size 504x360 with 2 Axes>"
      ]
     },
     "metadata": {
      "needs_background": "light"
     },
     "output_type": "display_data"
    },
    {
     "name": "stdout",
     "output_type": "stream",
     "text": [
      "Classifier:  KNeigbors\n",
      "\n",
      "Confusion Matrix:\n",
      " [[274 151 226 150  21]\n",
      " [ 98 755 130 511  14]\n",
      " [125 205 395 240  31]\n",
      " [ 25  89  49 551  13]\n",
      " [ 99 160 174 271  77]]\n",
      "\n",
      "Accuracy Score:  0.42449317335539927\n",
      "Precision Score:  0.4596093128232562\n",
      "Recall Score:  0.42449317335539927\n",
      "F1 Score:  0.40564766124297696\n",
      "Cohen Score:  0.27156100269027916\n",
      "K-Fold Accuracy Score: 42.89%\n",
      "\n",
      "Classification Report:\n",
      "               precision    recall  f1-score   support\n",
      "\n",
      "     Central       0.44      0.33      0.38       822\n",
      "     Eastern       0.56      0.50      0.53      1508\n",
      "    Northern       0.41      0.40      0.40       996\n",
      "    Southern       0.32      0.76      0.45       727\n",
      "     Western       0.49      0.10      0.16       781\n",
      "\n",
      "    accuracy                           0.42      4834\n",
      "   macro avg       0.44      0.42      0.38      4834\n",
      "weighted avg       0.46      0.42      0.41      4834\n",
      "\n",
      "\n",
      "\n"
     ]
    },
    {
     "data": {
      "image/png": "[encoded data removed]",
      "text/plain": [
       "<Figure size 504x360 with 2 Axes>"
      ]
     },
     "metadata": {
      "needs_background": "light"
     },
     "output_type": "display_data"
    },
    {
     "name": "stdout",
     "output_type": "stream",
     "text": [
      "Classifier:  BernoulliNB\n",
      "\n",
      "Confusion Matrix:\n",
      " [[ 184  468  158    2   10]\n",
      " [  23 1434   49    1    1]\n",
      " [  31  463  478   11   13]\n",
      " [   2  544   54  118    9]\n",
      " [  40  381  149    8  203]]\n",
      "\n",
      "Accuracy Score:  0.5\n",
      "Precision Score:  0.6243571372845494\n",
      "Recall Score:  0.5\n",
      "F1 Score:  0.45324397216292933\n",
      "Cohen Score:  0.3129425177642192\n",
      "K-Fold Accuracy Score: 47.11%\n",
      "\n",
      "Classification Report:\n",
      "               precision    recall  f1-score   support\n",
      "\n",
      "     Central       0.66      0.22      0.33       822\n",
      "     Eastern       0.44      0.95      0.60      1508\n",
      "    Northern       0.54      0.48      0.51       996\n",
      "    Southern       0.84      0.16      0.27       727\n",
      "     Western       0.86      0.26      0.40       781\n",
      "\n",
      "    accuracy                           0.50      4834\n",
      "   macro avg       0.67      0.42      0.42      4834\n",
      "weighted avg       0.62      0.50      0.45      4834\n",
      "\n",
      "\n",
      "\n"
     ]
    },
    {
     "data": {
      "image/png": "[encoded data removed]",
      "text/plain": [
       "<Figure size 504x360 with 2 Axes>"
      ]
     },
     "metadata": {
      "needs_background": "light"
     },
     "output_type": "display_data"
    },
    {
     "name": "stdout",
     "output_type": "stream",
     "text": [
      "Classifier:  MultinomialNB\n",
      "\n",
      "Confusion Matrix:\n",
      " [[ 438  167  149   16   52]\n",
      " [ 115 1274   71   21   27]\n",
      " [ 166  217  507   39   67]\n",
      " [  30  271   68  316   42]\n",
      " [ 134  130  106   24  387]]\n",
      "\n",
      "Accuracy Score:  0.6044683491932147\n",
      "Precision Score:  0.6162922678376379\n",
      "Recall Score:  0.6044683491932147\n",
      "F1 Score:  0.5957169524659103\n",
      "Cohen Score:  0.48330260950795945\n",
      "K-Fold Accuracy Score: 59.52%\n",
      "\n",
      "Classification Report:\n",
      "               precision    recall  f1-score   support\n",
      "\n",
      "     Central       0.50      0.53      0.51       822\n",
      "     Eastern       0.62      0.84      0.71      1508\n",
      "    Northern       0.56      0.51      0.53       996\n",
      "    Southern       0.76      0.43      0.55       727\n",
      "     Western       0.67      0.50      0.57       781\n",
      "\n",
      "    accuracy                           0.60      4834\n",
      "   macro avg       0.62      0.56      0.58      4834\n",
      "weighted avg       0.62      0.60      0.60      4834\n",
      "\n",
      "\n",
      "\n"
     ]
    },
    {
     "data": {
      "image/png": "[encoded data removed]",
      "text/plain": [
       "<Figure size 504x360 with 2 Axes>"
      ]
     },
     "metadata": {
      "needs_background": "light"
     },
     "output_type": "display_data"
    },
    {
     "name": "stdout",
     "output_type": "stream",
     "text": [
      "Classifier:  DecisionTree\n",
      "\n",
      "Confusion Matrix:\n",
      " [[327 138 211  98  48]\n",
      " [124 766 147 433  38]\n",
      " [155 118 471 203  49]\n",
      " [ 32  43 114 514  24]\n",
      " [ 98  67 170 195 251]]\n",
      "\n",
      "Accuracy Score:  0.48179561439801405\n",
      "Precision Score:  0.5263160340007772\n",
      "Recall Score:  0.48179561439801405\n",
      "F1 Score:  0.4837833084192196\n",
      "Cohen Score:  0.34818749522612846\n",
      "K-Fold Accuracy Score: 47.94%\n",
      "\n",
      "Classification Report:\n",
      "               precision    recall  f1-score   support\n",
      "\n",
      "     Central       0.44      0.40      0.42       822\n",
      "     Eastern       0.68      0.51      0.58      1508\n",
      "    Northern       0.42      0.47      0.45       996\n",
      "    Southern       0.36      0.71      0.47       727\n",
      "     Western       0.61      0.32      0.42       781\n",
      "\n",
      "    accuracy                           0.48      4834\n",
      "   macro avg       0.50      0.48      0.47      4834\n",
      "weighted avg       0.53      0.48      0.48      4834\n",
      "\n",
      "\n",
      "\n"
     ]
    },
    {
     "data": {
      "image/png": "[encoded data removed]",
      "text/plain": [
       "<Figure size 504x360 with 2 Axes>"
      ]
     },
     "metadata": {
      "needs_background": "light"
     },
     "output_type": "display_data"
    },
    {
     "name": "stdout",
     "output_type": "stream",
     "text": [
      "Classifier:  RandomForest\n",
      "\n",
      "Confusion Matrix:\n",
      " [[277 131 241 104  69]\n",
      " [ 96 828 160 384  40]\n",
      " [ 99 121 527 194  55]\n",
      " [ 30  39  92 541  25]\n",
      " [ 67  62 178 192 282]]\n",
      "\n",
      "Accuracy Score:  0.5078609846917667\n",
      "Precision Score:  0.5463644926770035\n",
      "Recall Score:  0.5078609846917667\n",
      "F1 Score:  0.5075732636613636\n",
      "Cohen Score:  0.37935086630637627\n",
      "K-Fold Accuracy Score: 50.16%\n",
      "\n",
      "Classification Report:\n",
      "               precision    recall  f1-score   support\n",
      "\n",
      "     Central       0.49      0.34      0.40       822\n",
      "     Eastern       0.70      0.55      0.62      1508\n",
      "    Northern       0.44      0.53      0.48       996\n",
      "    Southern       0.38      0.74      0.51       727\n",
      "     Western       0.60      0.36      0.45       781\n",
      "\n",
      "    accuracy                           0.51      4834\n",
      "   macro avg       0.52      0.50      0.49      4834\n",
      "weighted avg       0.55      0.51      0.51      4834\n",
      "\n",
      "\n",
      "\n"
     ]
    }
   ],
   "source": [
    "results = run_models(X_train, y_train, X_test, y_test, models, 10)"
   ]
  },
  {
   "cell_type": "code",
   "execution_count": 38,
   "metadata": {},
   "outputs": [
    {
     "data": {
      "text/html": [
       "<div>\n",
       "<style scoped>\n",
       "    .dataframe tbody tr th:only-of-type {\n",
       "        vertical-align: middle;\n",
       "    }\n",
       "\n",
       "    .dataframe tbody tr th {\n",
       "        vertical-align: top;\n",
       "    }\n",
       "\n",
       "    .dataframe thead th {\n",
       "        text-align: right;\n",
       "    }\n",
       "</style>\n",
       "<table border=\"1\" class=\"dataframe\">\n",
       "  <thead>\n",
       "    <tr style=\"text-align: right;\">\n",
       "      <th></th>\n",
       "      <th>Model</th>\n",
       "      <th>Accuracy</th>\n",
       "      <th>K-Fold Mean Accuracy</th>\n",
       "      <th>Std.Deviation</th>\n",
       "      <th>Precision</th>\n",
       "      <th>Recall</th>\n",
       "      <th>F1 Score</th>\n",
       "      <th>Cohen-Kappa Score</th>\n",
       "    </tr>\n",
       "  </thead>\n",
       "  <tbody>\n",
       "    <tr>\n",
       "      <th>3</th>\n",
       "      <td>MultinomialNB</td>\n",
       "      <td>60.446835</td>\n",
       "      <td>59.515964</td>\n",
       "      <td>0.767137</td>\n",
       "      <td>0.616292</td>\n",
       "      <td>0.604468</td>\n",
       "      <td>0.595717</td>\n",
       "      <td>0.483303</td>\n",
       "    </tr>\n",
       "    <tr>\n",
       "      <th>0</th>\n",
       "      <td>Logistic Regression</td>\n",
       "      <td>59.557302</td>\n",
       "      <td>58.703991</td>\n",
       "      <td>0.916629</td>\n",
       "      <td>0.603250</td>\n",
       "      <td>0.595573</td>\n",
       "      <td>0.585006</td>\n",
       "      <td>0.468989</td>\n",
       "    </tr>\n",
       "    <tr>\n",
       "      <th>5</th>\n",
       "      <td>RandomForest</td>\n",
       "      <td>50.786098</td>\n",
       "      <td>50.160381</td>\n",
       "      <td>0.922068</td>\n",
       "      <td>0.546364</td>\n",
       "      <td>0.507861</td>\n",
       "      <td>0.507573</td>\n",
       "      <td>0.379351</td>\n",
       "    </tr>\n",
       "    <tr>\n",
       "      <th>2</th>\n",
       "      <td>BernoulliNB</td>\n",
       "      <td>50.000000</td>\n",
       "      <td>47.109064</td>\n",
       "      <td>0.913391</td>\n",
       "      <td>0.624357</td>\n",
       "      <td>0.500000</td>\n",
       "      <td>0.453244</td>\n",
       "      <td>0.312943</td>\n",
       "    </tr>\n",
       "    <tr>\n",
       "      <th>4</th>\n",
       "      <td>DecisionTree</td>\n",
       "      <td>48.179561</td>\n",
       "      <td>47.936530</td>\n",
       "      <td>0.772678</td>\n",
       "      <td>0.526316</td>\n",
       "      <td>0.481796</td>\n",
       "      <td>0.483783</td>\n",
       "      <td>0.348187</td>\n",
       "    </tr>\n",
       "    <tr>\n",
       "      <th>1</th>\n",
       "      <td>KNeigbors</td>\n",
       "      <td>42.449317</td>\n",
       "      <td>42.894079</td>\n",
       "      <td>2.008854</td>\n",
       "      <td>0.459609</td>\n",
       "      <td>0.424493</td>\n",
       "      <td>0.405648</td>\n",
       "      <td>0.271561</td>\n",
       "    </tr>\n",
       "  </tbody>\n",
       "</table>\n",
       "</div>"
      ],
      "text/plain": [
       "                 Model   Accuracy  K-Fold Mean Accuracy  Std.Deviation  \\\n",
       "3        MultinomialNB  60.446835             59.515964       0.767137   \n",
       "0  Logistic Regression  59.557302             58.703991       0.916629   \n",
       "5         RandomForest  50.786098             50.160381       0.922068   \n",
       "2          BernoulliNB  50.000000             47.109064       0.913391   \n",
       "4         DecisionTree  48.179561             47.936530       0.772678   \n",
       "1            KNeigbors  42.449317             42.894079       2.008854   \n",
       "\n",
       "   Precision    Recall  F1 Score  Cohen-Kappa Score  \n",
       "3   0.616292  0.604468  0.595717           0.483303  \n",
       "0   0.603250  0.595573  0.585006           0.468989  \n",
       "5   0.546364  0.507861  0.507573           0.379351  \n",
       "2   0.624357  0.500000  0.453244           0.312943  \n",
       "4   0.526316  0.481796  0.483783           0.348187  \n",
       "1   0.459609  0.424493  0.405648           0.271561  "
      ]
     },
     "execution_count": 38,
     "metadata": {},
     "output_type": "execute_result"
    }
   ],
   "source": [
    "results"
   ]
  },
  {
   "cell_type": "code",
   "execution_count": null,
   "metadata": {},
   "outputs": [],
   "source": []
  }
 ],
 "metadata": {
  "colab": {
   "provenance": []
  },
  "kernelspec": {
   "display_name": "Python 3 (ipykernel)",
   "language": "python",
   "name": "python3"
  },
  "language_info": {
   "codemirror_mode": {
    "name": "ipython",
    "version": 3
   },
   "file_extension": ".py",
   "mimetype": "text/x-python",
   "name": "python",
   "nbconvert_exporter": "python",
   "pygments_lexer": "ipython3",
   "version": "3.9.12"
  },
  "widgets": {
   "application/vnd.jupyter.widget-state+json": {
    "007b2b08a6984e03aa06b5bdaa0529be": {
     "model_module": "@jupyter-widgets/controls",
     "model_module_version": "1.5.0",
     "model_name": "DescriptionStyleModel",
     "state": {
      "_model_module": "@jupyter-widgets/controls",
      "_model_module_version": "1.5.0",
      "_model_name": "DescriptionStyleModel",
      "_view_count": null,
      "_view_module": "@jupyter-widgets/base",
      "_view_module_version": "1.2.0",
      "_view_name": "StyleView",
      "description_width": ""
     }
    },
    "06f6cd03aacb4cbd8892cfc20444cf18": {
     "model_module": "@jupyter-widgets/controls",
     "model_module_version": "1.5.0",
     "model_name": "DescriptionStyleModel",
     "state": {
      "_model_module": "@jupyter-widgets/controls",
      "_model_module_version": "1.5.0",
      "_model_name": "DescriptionStyleModel",
      "_view_count": null,
      "_view_module": "@jupyter-widgets/base",
      "_view_module_version": "1.2.0",
      "_view_name": "StyleView",
      "description_width": ""
     }
    },
    "090aeef989f14412b3ad52d024fb168e": {
     "model_module": "@jupyter-widgets/controls",
     "model_module_version": "1.5.0",
     "model_name": "DescriptionStyleModel",
     "state": {
      "_model_module": "@jupyter-widgets/controls",
      "_model_module_version": "1.5.0",
      "_model_name": "DescriptionStyleModel",
      "_view_count": null,
      "_view_module": "@jupyter-widgets/base",
      "_view_module_version": "1.2.0",
      "_view_name": "StyleView",
      "description_width": ""
     }
    },
    "0945a7c71449439b97ef54ba634fac60": {
     "model_module": "@jupyter-widgets/controls",
     "model_module_version": "1.5.0",
     "model_name": "DescriptionStyleModel",
     "state": {
      "_model_module": "@jupyter-widgets/controls",
      "_model_module_version": "1.5.0",
      "_model_name": "DescriptionStyleModel",
      "_view_count": null,
      "_view_module": "@jupyter-widgets/base",
      "_view_module_version": "1.2.0",
      "_view_name": "StyleView",
      "description_width": ""
     }
    },
    "09f95b5dd8de4dbb90e6acf94d687301": {
     "model_module": "@jupyter-widgets/controls",
     "model_module_version": "1.5.0",
     "model_name": "HBoxModel",
     "state": {
      "_dom_classes": [],
      "_model_module": "@jupyter-widgets/controls",
      "_model_module_version": "1.5.0",
      "_model_name": "HBoxModel",
      "_view_count": null,
      "_view_module": "@jupyter-widgets/controls",
      "_view_module_version": "1.5.0",
      "_view_name": "HBoxView",
      "box_style": "",
      "children": [
       "IPY_MODEL_fba40e010a204d1b883109b038bc8cfe",
       "IPY_MODEL_9e89b11764a642218d8714c1b75850d2",
       "IPY_MODEL_27a39a06ae8a4eeaba2e15e138260ae4"
      ],
      "layout": "IPY_MODEL_f410a782509c437c9e47c6cf658a492a"
     }
    },
    "1411eefc7e564314beb6c49477dcc9fb": {
     "model_module": "@jupyter-widgets/base",
     "model_module_version": "1.2.0",
     "model_name": "LayoutModel",
     "state": {
      "_model_module": "@jupyter-widgets/base",
      "_model_module_version": "1.2.0",
      "_model_name": "LayoutModel",
      "_view_count": null,
      "_view_module": "@jupyter-widgets/base",
      "_view_module_version": "1.2.0",
      "_view_name": "LayoutView",
      "align_content": null,
      "align_items": null,
      "align_self": null,
      "border": null,
      "bottom": null,
      "display": null,
      "flex": null,
      "flex_flow": null,
      "grid_area": null,
      "grid_auto_columns": null,
      "grid_auto_flow": null,
      "grid_auto_rows": null,
      "grid_column": null,
      "grid_gap": null,
      "grid_row": null,
      "grid_template_areas": null,
      "grid_template_columns": null,
      "grid_template_rows": null,
      "height": null,
      "justify_content": null,
      "justify_items": null,
      "left": null,
      "margin": null,
      "max_height": null,
      "max_width": null,
      "min_height": null,
      "min_width": null,
      "object_fit": null,
      "object_position": null,
      "order": null,
      "overflow": null,
      "overflow_x": null,
      "overflow_y": null,
      "padding": null,
      "right": null,
      "top": null,
      "visibility": null,
      "width": null
     }
    },
    "162aa493c26e44d38f5a67bb1c0932fe": {
     "model_module": "@jupyter-widgets/base",
     "model_module_version": "1.2.0",
     "model_name": "LayoutModel",
     "state": {
      "_model_module": "@jupyter-widgets/base",
      "_model_module_version": "1.2.0",
      "_model_name": "LayoutModel",
      "_view_count": null,
      "_view_module": "@jupyter-widgets/base",
      "_view_module_version": "1.2.0",
      "_view_name": "LayoutView",
      "align_content": null,
      "align_items": null,
      "align_self": null,
      "border": null,
      "bottom": null,
      "display": null,
      "flex": null,
      "flex_flow": null,
      "grid_area": null,
      "grid_auto_columns": null,
      "grid_auto_flow": null,
      "grid_auto_rows": null,
      "grid_column": null,
      "grid_gap": null,
      "grid_row": null,
      "grid_template_areas": null,
      "grid_template_columns": null,
      "grid_template_rows": null,
      "height": null,
      "justify_content": null,
      "justify_items": null,
      "left": null,
      "margin": null,
      "max_height": null,
      "max_width": null,
      "min_height": null,
      "min_width": null,
      "object_fit": null,
      "object_position": null,
      "order": null,
      "overflow": null,
      "overflow_x": null,
      "overflow_y": null,
      "padding": null,
      "right": null,
      "top": null,
      "visibility": null,
      "width": null
     }
    },
    "270e1bf5cb83426dbe3771acf6fd7c0d": {
     "model_module": "@jupyter-widgets/base",
     "model_module_version": "1.2.0",
     "model_name": "LayoutModel",
     "state": {
      "_model_module": "@jupyter-widgets/base",
      "_model_module_version": "1.2.0",
      "_model_name": "LayoutModel",
      "_view_count": null,
      "_view_module": "@jupyter-widgets/base",
      "_view_module_version": "1.2.0",
      "_view_name": "LayoutView",
      "align_content": null,
      "align_items": null,
      "align_self": null,
      "border": null,
      "bottom": null,
      "display": null,
      "flex": null,
      "flex_flow": null,
      "grid_area": null,
      "grid_auto_columns": null,
      "grid_auto_flow": null,
      "grid_auto_rows": null,
      "grid_column": null,
      "grid_gap": null,
      "grid_row": null,
      "grid_template_areas": null,
      "grid_template_columns": null,
      "grid_template_rows": null,
      "height": null,
      "justify_content": null,
      "justify_items": null,
      "left": null,
      "margin": null,
      "max_height": null,
      "max_width": null,
      "min_height": null,
      "min_width": null,
      "object_fit": null,
      "object_position": null,
      "order": null,
      "overflow": null,
      "overflow_x": null,
      "overflow_y": null,
      "padding": null,
      "right": null,
      "top": null,
      "visibility": null,
      "width": null
     }
    },
    "27a39a06ae8a4eeaba2e15e138260ae4": {
     "model_module": "@jupyter-widgets/controls",
     "model_module_version": "1.5.0",
     "model_name": "HTMLModel",
     "state": {
      "_dom_classes": [],
      "_model_module": "@jupyter-widgets/controls",
      "_model_module_version": "1.5.0",
      "_model_name": "HTMLModel",
      "_view_count": null,
      "_view_module": "@jupyter-widgets/controls",
      "_view_module_version": "1.5.0",
      "_view_name": "HTMLView",
      "description": "",
      "description_tooltip": null,
      "layout": "IPY_MODEL_5f58bd2f70194cc3abfbc68878072cc6",
      "placeholder": "​",
      "style": "IPY_MODEL_eebfa5c667624bdb88cc2b331d41d083",
      "value": " 570/570 [00:00&lt;00:00, 29.1kB/s]"
     }
    },
    "3f6a9bd9efc2461db989348a581a91f8": {
     "model_module": "@jupyter-widgets/base",
     "model_module_version": "1.2.0",
     "model_name": "LayoutModel",
     "state": {
      "_model_module": "@jupyter-widgets/base",
      "_model_module_version": "1.2.0",
      "_model_name": "LayoutModel",
      "_view_count": null,
      "_view_module": "@jupyter-widgets/base",
      "_view_module_version": "1.2.0",
      "_view_name": "LayoutView",
      "align_content": null,
      "align_items": null,
      "align_self": null,
      "border": null,
      "bottom": null,
      "display": null,
      "flex": null,
      "flex_flow": null,
      "grid_area": null,
      "grid_auto_columns": null,
      "grid_auto_flow": null,
      "grid_auto_rows": null,
      "grid_column": null,
      "grid_gap": null,
      "grid_row": null,
      "grid_template_areas": null,
      "grid_template_columns": null,
      "grid_template_rows": null,
      "height": null,
      "justify_content": null,
      "justify_items": null,
      "left": null,
      "margin": null,
      "max_height": null,
      "max_width": null,
      "min_height": null,
      "min_width": null,
      "object_fit": null,
      "object_position": null,
      "order": null,
      "overflow": null,
      "overflow_x": null,
      "overflow_y": null,
      "padding": null,
      "right": null,
      "top": null,
      "visibility": null,
      "width": null
     }
    },
    "4e3df4d31f414da0ad63e4879205f55b": {
     "model_module": "@jupyter-widgets/controls",
     "model_module_version": "1.5.0",
     "model_name": "ProgressStyleModel",
     "state": {
      "_model_module": "@jupyter-widgets/controls",
      "_model_module_version": "1.5.0",
      "_model_name": "ProgressStyleModel",
      "_view_count": null,
      "_view_module": "@jupyter-widgets/base",
      "_view_module_version": "1.2.0",
      "_view_name": "StyleView",
      "bar_color": null,
      "description_width": ""
     }
    },
    "4f559dcc9eba4569a54a672b763cc63e": {
     "model_module": "@jupyter-widgets/base",
     "model_module_version": "1.2.0",
     "model_name": "LayoutModel",
     "state": {
      "_model_module": "@jupyter-widgets/base",
      "_model_module_version": "1.2.0",
      "_model_name": "LayoutModel",
      "_view_count": null,
      "_view_module": "@jupyter-widgets/base",
      "_view_module_version": "1.2.0",
      "_view_name": "LayoutView",
      "align_content": null,
      "align_items": null,
      "align_self": null,
      "border": null,
      "bottom": null,
      "display": null,
      "flex": null,
      "flex_flow": null,
      "grid_area": null,
      "grid_auto_columns": null,
      "grid_auto_flow": null,
      "grid_auto_rows": null,
      "grid_column": null,
      "grid_gap": null,
      "grid_row": null,
      "grid_template_areas": null,
      "grid_template_columns": null,
      "grid_template_rows": null,
      "height": null,
      "justify_content": null,
      "justify_items": null,
      "left": null,
      "margin": null,
      "max_height": null,
      "max_width": null,
      "min_height": null,
      "min_width": null,
      "object_fit": null,
      "object_position": null,
      "order": null,
      "overflow": null,
      "overflow_x": null,
      "overflow_y": null,
      "padding": null,
      "right": null,
      "top": null,
      "visibility": null,
      "width": null
     }
    },
    "5277bd7ebc074564af2e06bd5d179f86": {
     "model_module": "@jupyter-widgets/controls",
     "model_module_version": "1.5.0",
     "model_name": "HBoxModel",
     "state": {
      "_dom_classes": [],
      "_model_module": "@jupyter-widgets/controls",
      "_model_module_version": "1.5.0",
      "_model_name": "HBoxModel",
      "_view_count": null,
      "_view_module": "@jupyter-widgets/controls",
      "_view_module_version": "1.5.0",
      "_view_name": "HBoxView",
      "box_style": "",
      "children": [
       "IPY_MODEL_eea787e1b2c042518869cdb0047d6af9",
       "IPY_MODEL_90c07849a0614a14a0c1ce09bb9b2fbf",
       "IPY_MODEL_b2fe7b9f5b0f42098d279fb331c845f5"
      ],
      "layout": "IPY_MODEL_cf2a3ec05a10444d87352bae4bda2203"
     }
    },
    "54d59ba05c0c4dcb9745ab5a5281e80c": {
     "model_module": "@jupyter-widgets/base",
     "model_module_version": "1.2.0",
     "model_name": "LayoutModel",
     "state": {
      "_model_module": "@jupyter-widgets/base",
      "_model_module_version": "1.2.0",
      "_model_name": "LayoutModel",
      "_view_count": null,
      "_view_module": "@jupyter-widgets/base",
      "_view_module_version": "1.2.0",
      "_view_name": "LayoutView",
      "align_content": null,
      "align_items": null,
      "align_self": null,
      "border": null,
      "bottom": null,
      "display": null,
      "flex": null,
      "flex_flow": null,
      "grid_area": null,
      "grid_auto_columns": null,
      "grid_auto_flow": null,
      "grid_auto_rows": null,
      "grid_column": null,
      "grid_gap": null,
      "grid_row": null,
      "grid_template_areas": null,
      "grid_template_columns": null,
      "grid_template_rows": null,
      "height": null,
      "justify_content": null,
      "justify_items": null,
      "left": null,
      "margin": null,
      "max_height": null,
      "max_width": null,
      "min_height": null,
      "min_width": null,
      "object_fit": null,
      "object_position": null,
      "order": null,
      "overflow": null,
      "overflow_x": null,
      "overflow_y": null,
      "padding": null,
      "right": null,
      "top": null,
      "visibility": null,
      "width": null
     }
    },
    "567ca83588934b0998b857fc1a8e57ae": {
     "model_module": "@jupyter-widgets/base",
     "model_module_version": "1.2.0",
     "model_name": "LayoutModel",
     "state": {
      "_model_module": "@jupyter-widgets/base",
      "_model_module_version": "1.2.0",
      "_model_name": "LayoutModel",
      "_view_count": null,
      "_view_module": "@jupyter-widgets/base",
      "_view_module_version": "1.2.0",
      "_view_name": "LayoutView",
      "align_content": null,
      "align_items": null,
      "align_self": null,
      "border": null,
      "bottom": null,
      "display": null,
      "flex": null,
      "flex_flow": null,
      "grid_area": null,
      "grid_auto_columns": null,
      "grid_auto_flow": null,
      "grid_auto_rows": null,
      "grid_column": null,
      "grid_gap": null,
      "grid_row": null,
      "grid_template_areas": null,
      "grid_template_columns": null,
      "grid_template_rows": null,
      "height": null,
      "justify_content": null,
      "justify_items": null,
      "left": null,
      "margin": null,
      "max_height": null,
      "max_width": null,
      "min_height": null,
      "min_width": null,
      "object_fit": null,
      "object_position": null,
      "order": null,
      "overflow": null,
      "overflow_x": null,
      "overflow_y": null,
      "padding": null,
      "right": null,
      "top": null,
      "visibility": null,
      "width": null
     }
    },
    "5f58bd2f70194cc3abfbc68878072cc6": {
     "model_module": "@jupyter-widgets/base",
     "model_module_version": "1.2.0",
     "model_name": "LayoutModel",
     "state": {
      "_model_module": "@jupyter-widgets/base",
      "_model_module_version": "1.2.0",
      "_model_name": "LayoutModel",
      "_view_count": null,
      "_view_module": "@jupyter-widgets/base",
      "_view_module_version": "1.2.0",
      "_view_name": "LayoutView",
      "align_content": null,
      "align_items": null,
      "align_self": null,
      "border": null,
      "bottom": null,
      "display": null,
      "flex": null,
      "flex_flow": null,
      "grid_area": null,
      "grid_auto_columns": null,
      "grid_auto_flow": null,
      "grid_auto_rows": null,
      "grid_column": null,
      "grid_gap": null,
      "grid_row": null,
      "grid_template_areas": null,
      "grid_template_columns": null,
      "grid_template_rows": null,
      "height": null,
      "justify_content": null,
      "justify_items": null,
      "left": null,
      "margin": null,
      "max_height": null,
      "max_width": null,
      "min_height": null,
      "min_width": null,
      "object_fit": null,
      "object_position": null,
      "order": null,
      "overflow": null,
      "overflow_x": null,
      "overflow_y": null,
      "padding": null,
      "right": null,
      "top": null,
      "visibility": null,
      "width": null
     }
    },
    "65dcbe32a3d9487493a3f84fe9e43933": {
     "model_module": "@jupyter-widgets/controls",
     "model_module_version": "1.5.0",
     "model_name": "FloatProgressModel",
     "state": {
      "_dom_classes": [],
      "_model_module": "@jupyter-widgets/controls",
      "_model_module_version": "1.5.0",
      "_model_name": "FloatProgressModel",
      "_view_count": null,
      "_view_module": "@jupyter-widgets/controls",
      "_view_module_version": "1.5.0",
      "_view_name": "ProgressView",
      "bar_style": "success",
      "description": "",
      "description_tooltip": null,
      "layout": "IPY_MODEL_3f6a9bd9efc2461db989348a581a91f8",
      "max": 28,
      "min": 0,
      "orientation": "horizontal",
      "style": "IPY_MODEL_4e3df4d31f414da0ad63e4879205f55b",
      "value": 28
     }
    },
    "6eebace5fd944bd0b082b72d1b922da7": {
     "model_module": "@jupyter-widgets/controls",
     "model_module_version": "1.5.0",
     "model_name": "DescriptionStyleModel",
     "state": {
      "_model_module": "@jupyter-widgets/controls",
      "_model_module_version": "1.5.0",
      "_model_name": "DescriptionStyleModel",
      "_view_count": null,
      "_view_module": "@jupyter-widgets/base",
      "_view_module_version": "1.2.0",
      "_view_name": "StyleView",
      "description_width": ""
     }
    },
    "70469ec07ccd488094360e7f9d0d8f13": {
     "model_module": "@jupyter-widgets/controls",
     "model_module_version": "1.5.0",
     "model_name": "DescriptionStyleModel",
     "state": {
      "_model_module": "@jupyter-widgets/controls",
      "_model_module_version": "1.5.0",
      "_model_name": "DescriptionStyleModel",
      "_view_count": null,
      "_view_module": "@jupyter-widgets/base",
      "_view_module_version": "1.2.0",
      "_view_name": "StyleView",
      "description_width": ""
     }
    },
    "7926d9a60be94cfb9fa533ed99afc640": {
     "model_module": "@jupyter-widgets/controls",
     "model_module_version": "1.5.0",
     "model_name": "HTMLModel",
     "state": {
      "_dom_classes": [],
      "_model_module": "@jupyter-widgets/controls",
      "_model_module_version": "1.5.0",
      "_model_name": "HTMLModel",
      "_view_count": null,
      "_view_module": "@jupyter-widgets/controls",
      "_view_module_version": "1.5.0",
      "_view_name": "HTMLView",
      "description": "",
      "description_tooltip": null,
      "layout": "IPY_MODEL_ae364c1983ce42ebbae7fb3b8c76254c",
      "placeholder": "​",
      "style": "IPY_MODEL_70469ec07ccd488094360e7f9d0d8f13",
      "value": " 232k/232k [00:00&lt;00:00, 2.42MB/s]"
     }
    },
    "7a8e9e6573324f5dbb55988ddef1c0db": {
     "model_module": "@jupyter-widgets/base",
     "model_module_version": "1.2.0",
     "model_name": "LayoutModel",
     "state": {
      "_model_module": "@jupyter-widgets/base",
      "_model_module_version": "1.2.0",
      "_model_name": "LayoutModel",
      "_view_count": null,
      "_view_module": "@jupyter-widgets/base",
      "_view_module_version": "1.2.0",
      "_view_name": "LayoutView",
      "align_content": null,
      "align_items": null,
      "align_self": null,
      "border": null,
      "bottom": null,
      "display": null,
      "flex": null,
      "flex_flow": null,
      "grid_area": null,
      "grid_auto_columns": null,
      "grid_auto_flow": null,
      "grid_auto_rows": null,
      "grid_column": null,
      "grid_gap": null,
      "grid_row": null,
      "grid_template_areas": null,
      "grid_template_columns": null,
      "grid_template_rows": null,
      "height": null,
      "justify_content": null,
      "justify_items": null,
      "left": null,
      "margin": null,
      "max_height": null,
      "max_width": null,
      "min_height": null,
      "min_width": null,
      "object_fit": null,
      "object_position": null,
      "order": null,
      "overflow": null,
      "overflow_x": null,
      "overflow_y": null,
      "padding": null,
      "right": null,
      "top": null,
      "visibility": null,
      "width": null
     }
    },
    "90c07849a0614a14a0c1ce09bb9b2fbf": {
     "model_module": "@jupyter-widgets/controls",
     "model_module_version": "1.5.0",
     "model_name": "FloatProgressModel",
     "state": {
      "_dom_classes": [],
      "_model_module": "@jupyter-widgets/controls",
      "_model_module_version": "1.5.0",
      "_model_name": "FloatProgressModel",
      "_view_count": null,
      "_view_module": "@jupyter-widgets/controls",
      "_view_module_version": "1.5.0",
      "_view_name": "ProgressView",
      "bar_style": "success",
      "description": "",
      "description_tooltip": null,
      "layout": "IPY_MODEL_270e1bf5cb83426dbe3771acf6fd7c0d",
      "max": 440473133,
      "min": 0,
      "orientation": "horizontal",
      "style": "IPY_MODEL_e9399a9740c641338b7de06d5502e9af",
      "value": 440473133
     }
    },
    "9da5651fb6d6408290b53854420faf02": {
     "model_module": "@jupyter-widgets/controls",
     "model_module_version": "1.5.0",
     "model_name": "HBoxModel",
     "state": {
      "_dom_classes": [],
      "_model_module": "@jupyter-widgets/controls",
      "_model_module_version": "1.5.0",
      "_model_name": "HBoxModel",
      "_view_count": null,
      "_view_module": "@jupyter-widgets/controls",
      "_view_module_version": "1.5.0",
      "_view_name": "HBoxView",
      "box_style": "",
      "children": [
       "IPY_MODEL_c8be10b102af48e692ef9b746bdd5013",
       "IPY_MODEL_a26681ded4ef4a6a8544046ad8c89ead",
       "IPY_MODEL_7926d9a60be94cfb9fa533ed99afc640"
      ],
      "layout": "IPY_MODEL_ea00003386b04fd2ae14b68a3841dfca"
     }
    },
    "9e89b11764a642218d8714c1b75850d2": {
     "model_module": "@jupyter-widgets/controls",
     "model_module_version": "1.5.0",
     "model_name": "FloatProgressModel",
     "state": {
      "_dom_classes": [],
      "_model_module": "@jupyter-widgets/controls",
      "_model_module_version": "1.5.0",
      "_model_name": "FloatProgressModel",
      "_view_count": null,
      "_view_module": "@jupyter-widgets/controls",
      "_view_module_version": "1.5.0",
      "_view_name": "ProgressView",
      "bar_style": "success",
      "description": "",
      "description_tooltip": null,
      "layout": "IPY_MODEL_e7b0fd0eb09c4213b2a413eaccd37870",
      "max": 570,
      "min": 0,
      "orientation": "horizontal",
      "style": "IPY_MODEL_f5e6d8c41c9b48b0a1540c85ec8b1880",
      "value": 570
     }
    },
    "a26681ded4ef4a6a8544046ad8c89ead": {
     "model_module": "@jupyter-widgets/controls",
     "model_module_version": "1.5.0",
     "model_name": "FloatProgressModel",
     "state": {
      "_dom_classes": [],
      "_model_module": "@jupyter-widgets/controls",
      "_model_module_version": "1.5.0",
      "_model_name": "FloatProgressModel",
      "_view_count": null,
      "_view_module": "@jupyter-widgets/controls",
      "_view_module_version": "1.5.0",
      "_view_name": "ProgressView",
      "bar_style": "success",
      "description": "",
      "description_tooltip": null,
      "layout": "IPY_MODEL_54d59ba05c0c4dcb9745ab5a5281e80c",
      "max": 231508,
      "min": 0,
      "orientation": "horizontal",
      "style": "IPY_MODEL_e59726a366a24890a2b5fe0cbc627d72",
      "value": 231508
     }
    },
    "ae364c1983ce42ebbae7fb3b8c76254c": {
     "model_module": "@jupyter-widgets/base",
     "model_module_version": "1.2.0",
     "model_name": "LayoutModel",
     "state": {
      "_model_module": "@jupyter-widgets/base",
      "_model_module_version": "1.2.0",
      "_model_name": "LayoutModel",
      "_view_count": null,
      "_view_module": "@jupyter-widgets/base",
      "_view_module_version": "1.2.0",
      "_view_name": "LayoutView",
      "align_content": null,
      "align_items": null,
      "align_self": null,
      "border": null,
      "bottom": null,
      "display": null,
      "flex": null,
      "flex_flow": null,
      "grid_area": null,
      "grid_auto_columns": null,
      "grid_auto_flow": null,
      "grid_auto_rows": null,
      "grid_column": null,
      "grid_gap": null,
      "grid_row": null,
      "grid_template_areas": null,
      "grid_template_columns": null,
      "grid_template_rows": null,
      "height": null,
      "justify_content": null,
      "justify_items": null,
      "left": null,
      "margin": null,
      "max_height": null,
      "max_width": null,
      "min_height": null,
      "min_width": null,
      "object_fit": null,
      "object_position": null,
      "order": null,
      "overflow": null,
      "overflow_x": null,
      "overflow_y": null,
      "padding": null,
      "right": null,
      "top": null,
      "visibility": null,
      "width": null
     }
    },
    "b2fe7b9f5b0f42098d279fb331c845f5": {
     "model_module": "@jupyter-widgets/controls",
     "model_module_version": "1.5.0",
     "model_name": "HTMLModel",
     "state": {
      "_dom_classes": [],
      "_model_module": "@jupyter-widgets/controls",
      "_model_module_version": "1.5.0",
      "_model_name": "HTMLModel",
      "_view_count": null,
      "_view_module": "@jupyter-widgets/controls",
      "_view_module_version": "1.5.0",
      "_view_name": "HTMLView",
      "description": "",
      "description_tooltip": null,
      "layout": "IPY_MODEL_567ca83588934b0998b857fc1a8e57ae",
      "placeholder": "​",
      "style": "IPY_MODEL_6eebace5fd944bd0b082b72d1b922da7",
      "value": " 440M/440M [00:05&lt;00:00, 87.2MB/s]"
     }
    },
    "c8be10b102af48e692ef9b746bdd5013": {
     "model_module": "@jupyter-widgets/controls",
     "model_module_version": "1.5.0",
     "model_name": "HTMLModel",
     "state": {
      "_dom_classes": [],
      "_model_module": "@jupyter-widgets/controls",
      "_model_module_version": "1.5.0",
      "_model_name": "HTMLModel",
      "_view_count": null,
      "_view_module": "@jupyter-widgets/controls",
      "_view_module_version": "1.5.0",
      "_view_name": "HTMLView",
      "description": "",
      "description_tooltip": null,
      "layout": "IPY_MODEL_1411eefc7e564314beb6c49477dcc9fb",
      "placeholder": "​",
      "style": "IPY_MODEL_e27fffc98b4b43a0867ac66f6e2c50d0",
      "value": "Downloading (…)solve/main/vocab.txt: 100%"
     }
    },
    "cec6697d4b4141a1b8b3f794921c54a5": {
     "model_module": "@jupyter-widgets/controls",
     "model_module_version": "1.5.0",
     "model_name": "HTMLModel",
     "state": {
      "_dom_classes": [],
      "_model_module": "@jupyter-widgets/controls",
      "_model_module_version": "1.5.0",
      "_model_name": "HTMLModel",
      "_view_count": null,
      "_view_module": "@jupyter-widgets/controls",
      "_view_module_version": "1.5.0",
      "_view_name": "HTMLView",
      "description": "",
      "description_tooltip": null,
      "layout": "IPY_MODEL_162aa493c26e44d38f5a67bb1c0932fe",
      "placeholder": "​",
      "style": "IPY_MODEL_007b2b08a6984e03aa06b5bdaa0529be",
      "value": " 28.0/28.0 [00:00&lt;00:00, 1.75kB/s]"
     }
    },
    "cf2a3ec05a10444d87352bae4bda2203": {
     "model_module": "@jupyter-widgets/base",
     "model_module_version": "1.2.0",
     "model_name": "LayoutModel",
     "state": {
      "_model_module": "@jupyter-widgets/base",
      "_model_module_version": "1.2.0",
      "_model_name": "LayoutModel",
      "_view_count": null,
      "_view_module": "@jupyter-widgets/base",
      "_view_module_version": "1.2.0",
      "_view_name": "LayoutView",
      "align_content": null,
      "align_items": null,
      "align_self": null,
      "border": null,
      "bottom": null,
      "display": null,
      "flex": null,
      "flex_flow": null,
      "grid_area": null,
      "grid_auto_columns": null,
      "grid_auto_flow": null,
      "grid_auto_rows": null,
      "grid_column": null,
      "grid_gap": null,
      "grid_row": null,
      "grid_template_areas": null,
      "grid_template_columns": null,
      "grid_template_rows": null,
      "height": null,
      "justify_content": null,
      "justify_items": null,
      "left": null,
      "margin": null,
      "max_height": null,
      "max_width": null,
      "min_height": null,
      "min_width": null,
      "object_fit": null,
      "object_position": null,
      "order": null,
      "overflow": null,
      "overflow_x": null,
      "overflow_y": null,
      "padding": null,
      "right": null,
      "top": null,
      "visibility": null,
      "width": null
     }
    },
    "d694bf02cd4d473880e47fa85025e6fd": {
     "model_module": "@jupyter-widgets/controls",
     "model_module_version": "1.5.0",
     "model_name": "HTMLModel",
     "state": {
      "_dom_classes": [],
      "_model_module": "@jupyter-widgets/controls",
      "_model_module_version": "1.5.0",
      "_model_name": "HTMLModel",
      "_view_count": null,
      "_view_module": "@jupyter-widgets/controls",
      "_view_module_version": "1.5.0",
      "_view_name": "HTMLView",
      "description": "",
      "description_tooltip": null,
      "layout": "IPY_MODEL_4f559dcc9eba4569a54a672b763cc63e",
      "placeholder": "​",
      "style": "IPY_MODEL_090aeef989f14412b3ad52d024fb168e",
      "value": "Downloading (…)okenizer_config.json: 100%"
     }
    },
    "dc17719e7d0a47829657972faf62c876": {
     "model_module": "@jupyter-widgets/base",
     "model_module_version": "1.2.0",
     "model_name": "LayoutModel",
     "state": {
      "_model_module": "@jupyter-widgets/base",
      "_model_module_version": "1.2.0",
      "_model_name": "LayoutModel",
      "_view_count": null,
      "_view_module": "@jupyter-widgets/base",
      "_view_module_version": "1.2.0",
      "_view_name": "LayoutView",
      "align_content": null,
      "align_items": null,
      "align_self": null,
      "border": null,
      "bottom": null,
      "display": null,
      "flex": null,
      "flex_flow": null,
      "grid_area": null,
      "grid_auto_columns": null,
      "grid_auto_flow": null,
      "grid_auto_rows": null,
      "grid_column": null,
      "grid_gap": null,
      "grid_row": null,
      "grid_template_areas": null,
      "grid_template_columns": null,
      "grid_template_rows": null,
      "height": null,
      "justify_content": null,
      "justify_items": null,
      "left": null,
      "margin": null,
      "max_height": null,
      "max_width": null,
      "min_height": null,
      "min_width": null,
      "object_fit": null,
      "object_position": null,
      "order": null,
      "overflow": null,
      "overflow_x": null,
      "overflow_y": null,
      "padding": null,
      "right": null,
      "top": null,
      "visibility": null,
      "width": null
     }
    },
    "e27fffc98b4b43a0867ac66f6e2c50d0": {
     "model_module": "@jupyter-widgets/controls",
     "model_module_version": "1.5.0",
     "model_name": "DescriptionStyleModel",
     "state": {
      "_model_module": "@jupyter-widgets/controls",
      "_model_module_version": "1.5.0",
      "_model_name": "DescriptionStyleModel",
      "_view_count": null,
      "_view_module": "@jupyter-widgets/base",
      "_view_module_version": "1.2.0",
      "_view_name": "StyleView",
      "description_width": ""
     }
    },
    "e59726a366a24890a2b5fe0cbc627d72": {
     "model_module": "@jupyter-widgets/controls",
     "model_module_version": "1.5.0",
     "model_name": "ProgressStyleModel",
     "state": {
      "_model_module": "@jupyter-widgets/controls",
      "_model_module_version": "1.5.0",
      "_model_name": "ProgressStyleModel",
      "_view_count": null,
      "_view_module": "@jupyter-widgets/base",
      "_view_module_version": "1.2.0",
      "_view_name": "StyleView",
      "bar_color": null,
      "description_width": ""
     }
    },
    "e7b0fd0eb09c4213b2a413eaccd37870": {
     "model_module": "@jupyter-widgets/base",
     "model_module_version": "1.2.0",
     "model_name": "LayoutModel",
     "state": {
      "_model_module": "@jupyter-widgets/base",
      "_model_module_version": "1.2.0",
      "_model_name": "LayoutModel",
      "_view_count": null,
      "_view_module": "@jupyter-widgets/base",
      "_view_module_version": "1.2.0",
      "_view_name": "LayoutView",
      "align_content": null,
      "align_items": null,
      "align_self": null,
      "border": null,
      "bottom": null,
      "display": null,
      "flex": null,
      "flex_flow": null,
      "grid_area": null,
      "grid_auto_columns": null,
      "grid_auto_flow": null,
      "grid_auto_rows": null,
      "grid_column": null,
      "grid_gap": null,
      "grid_row": null,
      "grid_template_areas": null,
      "grid_template_columns": null,
      "grid_template_rows": null,
      "height": null,
      "justify_content": null,
      "justify_items": null,
      "left": null,
      "margin": null,
      "max_height": null,
      "max_width": null,
      "min_height": null,
      "min_width": null,
      "object_fit": null,
      "object_position": null,
      "order": null,
      "overflow": null,
      "overflow_x": null,
      "overflow_y": null,
      "padding": null,
      "right": null,
      "top": null,
      "visibility": null,
      "width": null
     }
    },
    "e9399a9740c641338b7de06d5502e9af": {
     "model_module": "@jupyter-widgets/controls",
     "model_module_version": "1.5.0",
     "model_name": "ProgressStyleModel",
     "state": {
      "_model_module": "@jupyter-widgets/controls",
      "_model_module_version": "1.5.0",
      "_model_name": "ProgressStyleModel",
      "_view_count": null,
      "_view_module": "@jupyter-widgets/base",
      "_view_module_version": "1.2.0",
      "_view_name": "StyleView",
      "bar_color": null,
      "description_width": ""
     }
    },
    "ea00003386b04fd2ae14b68a3841dfca": {
     "model_module": "@jupyter-widgets/base",
     "model_module_version": "1.2.0",
     "model_name": "LayoutModel",
     "state": {
      "_model_module": "@jupyter-widgets/base",
      "_model_module_version": "1.2.0",
      "_model_name": "LayoutModel",
      "_view_count": null,
      "_view_module": "@jupyter-widgets/base",
      "_view_module_version": "1.2.0",
      "_view_name": "LayoutView",
      "align_content": null,
      "align_items": null,
      "align_self": null,
      "border": null,
      "bottom": null,
      "display": null,
      "flex": null,
      "flex_flow": null,
      "grid_area": null,
      "grid_auto_columns": null,
      "grid_auto_flow": null,
      "grid_auto_rows": null,
      "grid_column": null,
      "grid_gap": null,
      "grid_row": null,
      "grid_template_areas": null,
      "grid_template_columns": null,
      "grid_template_rows": null,
      "height": null,
      "justify_content": null,
      "justify_items": null,
      "left": null,
      "margin": null,
      "max_height": null,
      "max_width": null,
      "min_height": null,
      "min_width": null,
      "object_fit": null,
      "object_position": null,
      "order": null,
      "overflow": null,
      "overflow_x": null,
      "overflow_y": null,
      "padding": null,
      "right": null,
      "top": null,
      "visibility": null,
      "width": null
     }
    },
    "eea787e1b2c042518869cdb0047d6af9": {
     "model_module": "@jupyter-widgets/controls",
     "model_module_version": "1.5.0",
     "model_name": "HTMLModel",
     "state": {
      "_dom_classes": [],
      "_model_module": "@jupyter-widgets/controls",
      "_model_module_version": "1.5.0",
      "_model_name": "HTMLModel",
      "_view_count": null,
      "_view_module": "@jupyter-widgets/controls",
      "_view_module_version": "1.5.0",
      "_view_name": "HTMLView",
      "description": "",
      "description_tooltip": null,
      "layout": "IPY_MODEL_dc17719e7d0a47829657972faf62c876",
      "placeholder": "​",
      "style": "IPY_MODEL_06f6cd03aacb4cbd8892cfc20444cf18",
      "value": "Downloading pytorch_model.bin: 100%"
     }
    },
    "eebfa5c667624bdb88cc2b331d41d083": {
     "model_module": "@jupyter-widgets/controls",
     "model_module_version": "1.5.0",
     "model_name": "DescriptionStyleModel",
     "state": {
      "_model_module": "@jupyter-widgets/controls",
      "_model_module_version": "1.5.0",
      "_model_name": "DescriptionStyleModel",
      "_view_count": null,
      "_view_module": "@jupyter-widgets/base",
      "_view_module_version": "1.2.0",
      "_view_name": "StyleView",
      "description_width": ""
     }
    },
    "f410a782509c437c9e47c6cf658a492a": {
     "model_module": "@jupyter-widgets/base",
     "model_module_version": "1.2.0",
     "model_name": "LayoutModel",
     "state": {
      "_model_module": "@jupyter-widgets/base",
      "_model_module_version": "1.2.0",
      "_model_name": "LayoutModel",
      "_view_count": null,
      "_view_module": "@jupyter-widgets/base",
      "_view_module_version": "1.2.0",
      "_view_name": "LayoutView",
      "align_content": null,
      "align_items": null,
      "align_self": null,
      "border": null,
      "bottom": null,
      "display": null,
      "flex": null,
      "flex_flow": null,
      "grid_area": null,
      "grid_auto_columns": null,
      "grid_auto_flow": null,
      "grid_auto_rows": null,
      "grid_column": null,
      "grid_gap": null,
      "grid_row": null,
      "grid_template_areas": null,
      "grid_template_columns": null,
      "grid_template_rows": null,
      "height": null,
      "justify_content": null,
      "justify_items": null,
      "left": null,
      "margin": null,
      "max_height": null,
      "max_width": null,
      "min_height": null,
      "min_width": null,
      "object_fit": null,
      "object_position": null,
      "order": null,
      "overflow": null,
      "overflow_x": null,
      "overflow_y": null,
      "padding": null,
      "right": null,
      "top": null,
      "visibility": null,
      "width": null
     }
    },
    "f5e6d8c41c9b48b0a1540c85ec8b1880": {
     "model_module": "@jupyter-widgets/controls",
     "model_module_version": "1.5.0",
     "model_name": "ProgressStyleModel",
     "state": {
      "_model_module": "@jupyter-widgets/controls",
      "_model_module_version": "1.5.0",
      "_model_name": "ProgressStyleModel",
      "_view_count": null,
      "_view_module": "@jupyter-widgets/base",
      "_view_module_version": "1.2.0",
      "_view_name": "StyleView",
      "bar_color": null,
      "description_width": ""
     }
    },
    "f6db844f390b491c9fbc84d4947059fa": {
     "model_module": "@jupyter-widgets/controls",
     "model_module_version": "1.5.0",
     "model_name": "HBoxModel",
     "state": {
      "_dom_classes": [],
      "_model_module": "@jupyter-widgets/controls",
      "_model_module_version": "1.5.0",
      "_model_name": "HBoxModel",
      "_view_count": null,
      "_view_module": "@jupyter-widgets/controls",
      "_view_module_version": "1.5.0",
      "_view_name": "HBoxView",
      "box_style": "",
      "children": [
       "IPY_MODEL_d694bf02cd4d473880e47fa85025e6fd",
       "IPY_MODEL_65dcbe32a3d9487493a3f84fe9e43933",
       "IPY_MODEL_cec6697d4b4141a1b8b3f794921c54a5"
      ],
      "layout": "IPY_MODEL_7a8e9e6573324f5dbb55988ddef1c0db"
     }
    },
    "fba40e010a204d1b883109b038bc8cfe": {
     "model_module": "@jupyter-widgets/controls",
     "model_module_version": "1.5.0",
     "model_name": "HTMLModel",
     "state": {
      "_dom_classes": [],
      "_model_module": "@jupyter-widgets/controls",
      "_model_module_version": "1.5.0",
      "_model_name": "HTMLModel",
      "_view_count": null,
      "_view_module": "@jupyter-widgets/controls",
      "_view_module_version": "1.5.0",
      "_view_name": "HTMLView",
      "description": "",
      "description_tooltip": null,
      "layout": "IPY_MODEL_ff4944358d3d4e7d96289c9f3ad86157",
      "placeholder": "​",
      "style": "IPY_MODEL_0945a7c71449439b97ef54ba634fac60",
      "value": "Downloading (…)lve/main/config.json: 100%"
     }
    },
    "ff4944358d3d4e7d96289c9f3ad86157": {
     "model_module": "@jupyter-widgets/base",
     "model_module_version": "1.2.0",
     "model_name": "LayoutModel",
     "state": {
      "_model_module": "@jupyter-widgets/base",
      "_model_module_version": "1.2.0",
      "_model_name": "LayoutModel",
      "_view_count": null,
      "_view_module": "@jupyter-widgets/base",
      "_view_module_version": "1.2.0",
      "_view_name": "LayoutView",
      "align_content": null,
      "align_items": null,
      "align_self": null,
      "border": null,
      "bottom": null,
      "display": null,
      "flex": null,
      "flex_flow": null,
      "grid_area": null,
      "grid_auto_columns": null,
      "grid_auto_flow": null,
      "grid_auto_rows": null,
      "grid_column": null,
      "grid_gap": null,
      "grid_row": null,
      "grid_template_areas": null,
      "grid_template_columns": null,
      "grid_template_rows": null,
      "height": null,
      "justify_content": null,
      "justify_items": null,
      "left": null,
      "margin": null,
      "max_height": null,
      "max_width": null,
      "min_height": null,
      "min_width": null,
      "object_fit": null,
      "object_position": null,
      "order": null,
      "overflow": null,
      "overflow_x": null,
      "overflow_y": null,
      "padding": null,
      "right": null,
      "top": null,
      "visibility": null,
      "width": null
     }
    }
   }
  }
 },
 "nbformat": 4,
 "nbformat_minor": 1
}
